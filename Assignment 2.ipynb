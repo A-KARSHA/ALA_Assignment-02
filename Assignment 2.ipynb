{
  "cells": [
    {
      "cell_type": "code",
      "execution_count": null,
      "metadata": {
        "colab": {
          "base_uri": "https://localhost:8080/",
          "height": 175
        },
        "id": "lIYdn1woOS1n",
        "outputId": "df6e8109-e50c-4a8d-c6e5-438356cd720b"
      },
      "outputs": [
        {
          "output_type": "execute_result",
          "data": {
            "text/plain": [
              "   HR   BP  Temp\n",
              "0  76  126  38.0\n",
              "1  74  120  38.0\n",
              "2  72  118  37.5\n",
              "3  78  136  37.0"
            ],
            "text/html": [
              "\n",
              "\n",
              "  <div id=\"df-db2a3e4a-ecf2-4866-9129-d87391ff12d1\">\n",
              "    <div class=\"colab-df-container\">\n",
              "      <div>\n",
              "<style scoped>\n",
              "    .dataframe tbody tr th:only-of-type {\n",
              "        vertical-align: middle;\n",
              "    }\n",
              "\n",
              "    .dataframe tbody tr th {\n",
              "        vertical-align: top;\n",
              "    }\n",
              "\n",
              "    .dataframe thead th {\n",
              "        text-align: right;\n",
              "    }\n",
              "</style>\n",
              "<table border=\"1\" class=\"dataframe\">\n",
              "  <thead>\n",
              "    <tr style=\"text-align: right;\">\n",
              "      <th></th>\n",
              "      <th>HR</th>\n",
              "      <th>BP</th>\n",
              "      <th>Temp</th>\n",
              "    </tr>\n",
              "  </thead>\n",
              "  <tbody>\n",
              "    <tr>\n",
              "      <th>0</th>\n",
              "      <td>76</td>\n",
              "      <td>126</td>\n",
              "      <td>38.0</td>\n",
              "    </tr>\n",
              "    <tr>\n",
              "      <th>1</th>\n",
              "      <td>74</td>\n",
              "      <td>120</td>\n",
              "      <td>38.0</td>\n",
              "    </tr>\n",
              "    <tr>\n",
              "      <th>2</th>\n",
              "      <td>72</td>\n",
              "      <td>118</td>\n",
              "      <td>37.5</td>\n",
              "    </tr>\n",
              "    <tr>\n",
              "      <th>3</th>\n",
              "      <td>78</td>\n",
              "      <td>136</td>\n",
              "      <td>37.0</td>\n",
              "    </tr>\n",
              "  </tbody>\n",
              "</table>\n",
              "</div>\n",
              "      <button class=\"colab-df-convert\" onclick=\"convertToInteractive('df-db2a3e4a-ecf2-4866-9129-d87391ff12d1')\"\n",
              "              title=\"Convert this dataframe to an interactive table.\"\n",
              "              style=\"display:none;\">\n",
              "\n",
              "  <svg xmlns=\"http://www.w3.org/2000/svg\" height=\"24px\"viewBox=\"0 0 24 24\"\n",
              "       width=\"24px\">\n",
              "    <path d=\"M0 0h24v24H0V0z\" fill=\"none\"/>\n",
              "    <path d=\"M18.56 5.44l.94 2.06.94-2.06 2.06-.94-2.06-.94-.94-2.06-.94 2.06-2.06.94zm-11 1L8.5 8.5l.94-2.06 2.06-.94-2.06-.94L8.5 2.5l-.94 2.06-2.06.94zm10 10l.94 2.06.94-2.06 2.06-.94-2.06-.94-.94-2.06-.94 2.06-2.06.94z\"/><path d=\"M17.41 7.96l-1.37-1.37c-.4-.4-.92-.59-1.43-.59-.52 0-1.04.2-1.43.59L10.3 9.45l-7.72 7.72c-.78.78-.78 2.05 0 2.83L4 21.41c.39.39.9.59 1.41.59.51 0 1.02-.2 1.41-.59l7.78-7.78 2.81-2.81c.8-.78.8-2.07 0-2.86zM5.41 20L4 18.59l7.72-7.72 1.47 1.35L5.41 20z\"/>\n",
              "  </svg>\n",
              "      </button>\n",
              "\n",
              "\n",
              "\n",
              "    <div id=\"df-e9f07078-8264-42d1-ac04-c591037016b2\">\n",
              "      <button class=\"colab-df-quickchart\" onclick=\"quickchart('df-e9f07078-8264-42d1-ac04-c591037016b2')\"\n",
              "              title=\"Suggest charts.\"\n",
              "              style=\"display:none;\">\n",
              "\n",
              "<svg xmlns=\"http://www.w3.org/2000/svg\" height=\"24px\"viewBox=\"0 0 24 24\"\n",
              "     width=\"24px\">\n",
              "    <g>\n",
              "        <path d=\"M19 3H5c-1.1 0-2 .9-2 2v14c0 1.1.9 2 2 2h14c1.1 0 2-.9 2-2V5c0-1.1-.9-2-2-2zM9 17H7v-7h2v7zm4 0h-2V7h2v10zm4 0h-2v-4h2v4z\"/>\n",
              "    </g>\n",
              "</svg>\n",
              "      </button>\n",
              "    </div>\n",
              "\n",
              "<style>\n",
              "  .colab-df-quickchart {\n",
              "    background-color: #E8F0FE;\n",
              "    border: none;\n",
              "    border-radius: 50%;\n",
              "    cursor: pointer;\n",
              "    display: none;\n",
              "    fill: #1967D2;\n",
              "    height: 32px;\n",
              "    padding: 0 0 0 0;\n",
              "    width: 32px;\n",
              "  }\n",
              "\n",
              "  .colab-df-quickchart:hover {\n",
              "    background-color: #E2EBFA;\n",
              "    box-shadow: 0px 1px 2px rgba(60, 64, 67, 0.3), 0px 1px 3px 1px rgba(60, 64, 67, 0.15);\n",
              "    fill: #174EA6;\n",
              "  }\n",
              "\n",
              "  [theme=dark] .colab-df-quickchart {\n",
              "    background-color: #3B4455;\n",
              "    fill: #D2E3FC;\n",
              "  }\n",
              "\n",
              "  [theme=dark] .colab-df-quickchart:hover {\n",
              "    background-color: #434B5C;\n",
              "    box-shadow: 0px 1px 3px 1px rgba(0, 0, 0, 0.15);\n",
              "    filter: drop-shadow(0px 1px 2px rgba(0, 0, 0, 0.3));\n",
              "    fill: #FFFFFF;\n",
              "  }\n",
              "</style>\n",
              "\n",
              "    <script>\n",
              "      async function quickchart(key) {\n",
              "        const containerElement = document.querySelector('#' + key);\n",
              "        const charts = await google.colab.kernel.invokeFunction(\n",
              "            'suggestCharts', [key], {});\n",
              "      }\n",
              "    </script>\n",
              "\n",
              "      <script>\n",
              "\n",
              "function displayQuickchartButton(domScope) {\n",
              "  let quickchartButtonEl =\n",
              "    domScope.querySelector('#df-e9f07078-8264-42d1-ac04-c591037016b2 button.colab-df-quickchart');\n",
              "  quickchartButtonEl.style.display =\n",
              "    google.colab.kernel.accessAllowed ? 'block' : 'none';\n",
              "}\n",
              "\n",
              "        displayQuickchartButton(document);\n",
              "      </script>\n",
              "      <style>\n",
              "    .colab-df-container {\n",
              "      display:flex;\n",
              "      flex-wrap:wrap;\n",
              "      gap: 12px;\n",
              "    }\n",
              "\n",
              "    .colab-df-convert {\n",
              "      background-color: #E8F0FE;\n",
              "      border: none;\n",
              "      border-radius: 50%;\n",
              "      cursor: pointer;\n",
              "      display: none;\n",
              "      fill: #1967D2;\n",
              "      height: 32px;\n",
              "      padding: 0 0 0 0;\n",
              "      width: 32px;\n",
              "    }\n",
              "\n",
              "    .colab-df-convert:hover {\n",
              "      background-color: #E2EBFA;\n",
              "      box-shadow: 0px 1px 2px rgba(60, 64, 67, 0.3), 0px 1px 3px 1px rgba(60, 64, 67, 0.15);\n",
              "      fill: #174EA6;\n",
              "    }\n",
              "\n",
              "    [theme=dark] .colab-df-convert {\n",
              "      background-color: #3B4455;\n",
              "      fill: #D2E3FC;\n",
              "    }\n",
              "\n",
              "    [theme=dark] .colab-df-convert:hover {\n",
              "      background-color: #434B5C;\n",
              "      box-shadow: 0px 1px 3px 1px rgba(0, 0, 0, 0.15);\n",
              "      filter: drop-shadow(0px 1px 2px rgba(0, 0, 0, 0.3));\n",
              "      fill: #FFFFFF;\n",
              "    }\n",
              "  </style>\n",
              "\n",
              "      <script>\n",
              "        const buttonEl =\n",
              "          document.querySelector('#df-db2a3e4a-ecf2-4866-9129-d87391ff12d1 button.colab-df-convert');\n",
              "        buttonEl.style.display =\n",
              "          google.colab.kernel.accessAllowed ? 'block' : 'none';\n",
              "\n",
              "        async function convertToInteractive(key) {\n",
              "          const element = document.querySelector('#df-db2a3e4a-ecf2-4866-9129-d87391ff12d1');\n",
              "          const dataTable =\n",
              "            await google.colab.kernel.invokeFunction('convertToInteractive',\n",
              "                                                     [key], {});\n",
              "          if (!dataTable) return;\n",
              "\n",
              "          const docLinkHtml = 'Like what you see? Visit the ' +\n",
              "            '<a target=\"_blank\" href=https://colab.research.google.com/notebooks/data_table.ipynb>data table notebook</a>'\n",
              "            + ' to learn more about interactive tables.';\n",
              "          element.innerHTML = '';\n",
              "          dataTable['output_type'] = 'display_data';\n",
              "          await google.colab.output.renderOutput(dataTable, element);\n",
              "          const docLink = document.createElement('div');\n",
              "          docLink.innerHTML = docLinkHtml;\n",
              "          element.appendChild(docLink);\n",
              "        }\n",
              "      </script>\n",
              "    </div>\n",
              "  </div>\n"
            ]
          },
          "metadata": {},
          "execution_count": 4
        }
      ],
      "source": [
        "import numpy as np\n",
        "import pandas as pd\n",
        "\n",
        "df_patient = pd.DataFrame({'HR': [76, 74, 72, 78],\n",
        "                           'BP': [126, 120, 118, 136],\n",
        "                           'Temp': [38, 38, 37.5, 37]})\n",
        "\n",
        "df_patient.head()"
      ]
    },
    {
      "cell_type": "code",
      "source": [
        "# Calculate the mean values of HR, BP, and Temp\n",
        "mean_values = df_patient.mean()\n",
        "\n",
        "# Calculate the Euclidean distances for each patient\n",
        "df_patient['Distance'] = np.sqrt((df_patient['HR'] - mean_values['HR'])**2 +\n",
        "                                 (df_patient['BP'] - mean_values['BP'])**2 +\n",
        "                                 (df_patient['Temp'] - mean_values['Temp'])**2)\n",
        "\n",
        "# Find the patient with the maximum distance\n",
        "#farthest_patient = df_patient[df_patient['Distance'] == df_patient['Distance'].max()]\n",
        "\n",
        "print(df_patient['Distance'])"
      ],
      "metadata": {
        "colab": {
          "base_uri": "https://localhost:8080/"
        },
        "id": "ouCy_1qfvvVh",
        "outputId": "a9d37bf2-a412-4849-8b10-125b3c1e3ea5"
      },
      "execution_count": null,
      "outputs": [
        {
          "output_type": "stream",
          "name": "stdout",
          "text": [
            "0     1.463087\n",
            "1     5.112790\n",
            "2     7.616799\n",
            "3    11.418871\n",
            "Name: Distance, dtype: float64\n"
          ]
        }
      ]
    },
    {
      "cell_type": "code",
      "source": [
        "from itertools import combinations\n",
        "from scipy.spatial.distance import euclidean\n",
        "distances = {}\n",
        "for i, j in combinations(df_patient.index, 2):\n",
        "    distances[(i, j)] = euclidean(df_patient.loc[i], df_patient.loc[j])\n",
        "\n",
        "# Find the two patients with the smallest distance\n",
        "nearest_patients = min(distances, key=distances.get)\n",
        "\n",
        "print(\"Nearest patients:\", nearest_patients)\n",
        "\n",
        "\n",
        "\n",
        "\n",
        "\n"
      ],
      "metadata": {
        "id": "JPMl0K1ewHS4",
        "outputId": "4c12d1eb-2c93-4161-9c9c-7fdc4b0433c5",
        "colab": {
          "base_uri": "https://localhost:8080/"
        }
      },
      "execution_count": null,
      "outputs": [
        {
          "output_type": "stream",
          "name": "stdout",
          "text": [
            "Nearest patients: (1, 2)\n"
          ]
        }
      ]
    },
    {
      "cell_type": "code",
      "source": [
        "from scipy.spatial.distance import pdist, squareform\n",
        "\n",
        "# Create the DataFrame\n",
        "df_patient = pd.DataFrame({'HR': [76, 74, 72, 78],\n",
        "                           'BP': [126, 120, 118, 136],\n",
        "                           'Temp': [38, 38, 37.5, 37]})\n",
        "\n",
        "# Calculate pairwise distances between all patients\n",
        "distances = pdist(df_patient, metric='euclidean')\n",
        "distance_matrix = squareform(distances)\n",
        "\n",
        "# Find the patient with the maximum distance from others\n",
        "farthest_patient_index = np.argmax(distance_matrix.sum(axis=1))\n",
        "\n",
        "farthest_patient = df_patient.iloc[farthest_patient_index]\n",
        "\n",
        "print(farthest_patient)\n",
        "\n",
        "\n",
        "\n",
        "\n",
        "\n",
        "\n"
      ],
      "metadata": {
        "id": "sJ7o6nj8xubO",
        "outputId": "1815f45d-b0cf-41bf-cae6-7a8d60dc60dc",
        "colab": {
          "base_uri": "https://localhost:8080/"
        }
      },
      "execution_count": null,
      "outputs": [
        {
          "output_type": "stream",
          "name": "stdout",
          "text": [
            "HR       78.0\n",
            "BP      136.0\n",
            "Temp     37.0\n",
            "Name: 3, dtype: float64\n"
          ]
        }
      ]
    },
    {
      "cell_type": "code",
      "source": [
        "from scipy.spatial.distance import cdist\n",
        "new_patient = pd.DataFrame({'HR': [80],\n",
        "                            'BP': [130],\n",
        "                            'Temp': [37.8]})\n",
        "\n",
        "# Calculate distances between the new patient and existing patients\n",
        "distances = cdist(new_patient, df_patient, metric='euclidean')\n",
        "\n",
        "# Find the index of the closest patient\n",
        "closest_patient_index = np.argmin(distances)\n",
        "\n",
        "closest_patient = df_patient.iloc[closest_patient_index]\n",
        "\n",
        "print(\"New Patient:\\n\", new_patient)\n",
        "print(\"\\nClosest Patient:\\n\", closest_patient)\n"
      ],
      "metadata": {
        "id": "9w1ju4mE0mup",
        "outputId": "872fb265-87c4-41ed-bf54-a8258a21193c",
        "colab": {
          "base_uri": "https://localhost:8080/"
        }
      },
      "execution_count": null,
      "outputs": [
        {
          "output_type": "stream",
          "name": "stdout",
          "text": [
            "New Patient:\n",
            "    HR   BP  Temp\n",
            "0  80  130  37.8\n",
            "\n",
            "Closest Patient:\n",
            " HR       80.0\n",
            "BP      130.0\n",
            "Temp     37.8\n",
            "Name: 4, dtype: float64\n"
          ]
        }
      ]
    },
    {
      "cell_type": "markdown",
      "source": [
        "The time complexity of finding the closest two and farthest patients using pairwise distance calculations can be approximated as follows:\n",
        "\n",
        "Finding the Closest Two Patients:\n",
        "\n",
        "Generating Pairwise Distances: O(n^2) [Quadratic time complexity]\n",
        "Finding Minimum Distance: O(n^2) [Quadratic time complexity]\n",
        "Overall Time Complexity: O(n^2) [Quadratic time complexity]\n",
        "\n",
        "Finding the Farthest Patient:\n",
        "\n",
        "Generating Pairwise Distances: O(n^2) [Quadratic time complexity]\n",
        "Finding Maximum Distance: O(n) [Linear time complexity]\n",
        "Overall Time Complexity: O(n^2) [Quadratic time complexity]\n",
        "\n",
        "In practice, if the number of patients is relatively small, the actual runtime might still be reasonable. However, for large datasets, the quadratic time complexity could result in longer processing times. If optimizing for performance is a concern, you might explore more efficient algorithms or techniques to reduce the time complexity, especially for larger datasets."
      ],
      "metadata": {
        "id": "gB-cbPKh1PQ1"
      }
    },
    {
      "cell_type": "markdown",
      "source": [
        "2.Practical Example\n",
        "\n",
        "Treatment Recommendations: Once you've grouped patients into clusters, you can analyze the treatment outcomes for each cluster separately. This allows for more tailored treatment recommendations based on the cluster's characteristics and past treatment successes.\n"
      ],
      "metadata": {
        "id": "96VMVk0xL8v-"
      }
    }
  ],
  "metadata": {
    "colab": {
      "provenance": []
    },
    "kernelspec": {
      "display_name": "Python 3",
      "name": "python3"
    }
  },
  "nbformat": 4,
  "nbformat_minor": 0
}